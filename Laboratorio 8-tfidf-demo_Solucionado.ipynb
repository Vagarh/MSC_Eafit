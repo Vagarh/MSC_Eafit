{
  "cells": [
    {
      "cell_type": "markdown",
      "metadata": {
        "id": "view-in-github",
        "colab_type": "text"
      },
      "source": [
        "<a href=\"https://colab.research.google.com/github/Vagarh/MSC_Eafit/blob/main/lab8-tfidf-demo_Solucionado.ipynb\" target=\"_parent\"><img src=\"https://colab.research.google.com/assets/colab-badge.svg\" alt=\"Open In Colab\"/></a>"
      ]
    },
    {
      "cell_type": "markdown",
      "source": [
        "# lab8-tfidf-demo\n",
        "Solucinado\n",
        "Juan Felipe Cardona Arango"
      ],
      "metadata": {
        "id": "Ze5XWnHqYbGy"
      }
    },
    {
      "cell_type": "code",
      "source": [],
      "metadata": {
        "id": "62P4A8SjYl5b"
      },
      "execution_count": null,
      "outputs": []
    },
    {
      "cell_type": "markdown",
      "metadata": {
        "id": "ssqEfdd2XUJY"
      },
      "source": [
        "# Tf-Idf example"
      ]
    },
    {
      "cell_type": "code",
      "source": [
        "from sklearn.feature_extraction.text import TfidfVectorizer\n",
        "import pandas as pd\n",
        "\n",
        "texts = [\n",
        "    \"good movie\", \"not a good movie\", \"did not like\",\n",
        "    \"i like it\", \"good one\"\n",
        "]\n",
        "\n",
        "# using default tokenizer in TfidfVectorizer\n",
        "tfidf = TfidfVectorizer(min_df=1, max_df=0.5, ngram_range=(1, 2))\n",
        "features = tfidf.fit_transform(texts)\n",
        "df = pd.DataFrame(\n",
        "    features.todense(),\n",
        "    columns=tfidf.get_feature_names_out()\n",
        ")\n",
        "\n",
        "print(df)\n"
      ],
      "metadata": {
        "id": "zU0zRzrIYRH-",
        "outputId": "f8a4382e-b192-4e12-bbf3-8db2fc8c8d0e",
        "colab": {
          "base_uri": "https://localhost:8080/"
        }
      },
      "execution_count": 3,
      "outputs": [
        {
          "output_type": "stream",
          "name": "stdout",
          "text": [
            "       did  did not  good movie  good one        it      like   like it  \\\n",
            "0  0.00000  0.00000    0.707107  0.000000  0.000000  0.000000  0.000000   \n",
            "1  0.00000  0.00000    0.469515  0.000000  0.000000  0.000000  0.000000   \n",
            "2  0.48214  0.48214    0.000000  0.000000  0.000000  0.388988  0.000000   \n",
            "3  0.00000  0.00000    0.000000  0.000000  0.614189  0.495524  0.614189   \n",
            "4  0.00000  0.00000    0.000000  0.707107  0.000000  0.000000  0.000000   \n",
            "\n",
            "      movie       not  not good  not like       one  \n",
            "0  0.707107  0.000000  0.000000   0.00000  0.000000  \n",
            "1  0.469515  0.469515  0.581951   0.00000  0.000000  \n",
            "2  0.000000  0.388988  0.000000   0.48214  0.000000  \n",
            "3  0.000000  0.000000  0.000000   0.00000  0.000000  \n",
            "4  0.000000  0.000000  0.000000   0.00000  0.707107  \n"
          ]
        }
      ]
    }
  ],
  "metadata": {
    "interpreter": {
      "hash": "40d3a090f54c6569ab1632332b64b2c03c39dcf918b08424e98f38b5ae0af88f"
    },
    "kernelspec": {
      "display_name": "Python 2",
      "language": "python",
      "name": "python3"
    },
    "language_info": {
      "codemirror_mode": {
        "name": "ipython",
        "version": 3
      },
      "file_extension": ".py",
      "mimetype": "text/x-python",
      "name": "python",
      "nbconvert_exporter": "python",
      "pygments_lexer": "ipython3",
      "version": "3.8.5"
    },
    "colab": {
      "provenance": [],
      "include_colab_link": true
    }
  },
  "nbformat": 4,
  "nbformat_minor": 0
}
