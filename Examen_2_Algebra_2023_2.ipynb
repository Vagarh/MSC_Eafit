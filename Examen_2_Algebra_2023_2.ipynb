{
  "nbformat": 4,
  "nbformat_minor": 0,
  "metadata": {
    "colab": {
      "provenance": [],
      "authorship_tag": "ABX9TyOg9jbmhOBrDSTMKbcmcEti",
      "include_colab_link": true
    },
    "kernelspec": {
      "name": "python3",
      "display_name": "Python 3"
    },
    "language_info": {
      "name": "python"
    }
  },
  "cells": [
    {
      "cell_type": "markdown",
      "metadata": {
        "id": "view-in-github",
        "colab_type": "text"
      },
      "source": [
        "<a href=\"https://colab.research.google.com/github/Vagarh/MSC_Eafit/blob/main/Examen_2_Algebra_MSC.ipynb\" target=\"_parent\"><img src=\"https://colab.research.google.com/assets/colab-badge.svg\" alt=\"Open In Colab\"/></a>"
      ]
    },
    {
      "cell_type": "markdown",
      "source": [
        "# Punto 1"
      ],
      "metadata": {
        "id": "yw1gOQ81X3PJ"
      }
    },
    {
      "cell_type": "code",
      "source": [
        "from sympy import Matrix, init_printing\n",
        "init_printing()\n",
        "import numpy as np\n",
        "\n",
        "# Definir dimensiones de la matriz A (m x n)\n",
        "m = 3\n",
        "n = 3\n",
        "\n",
        "# Crear una matriz A aleatoria con rango n\n",
        "A = Matrix(np.random.rand(m, n))\n",
        "while A.rank() != n:\n",
        "    A = Matrix(np.random.rand(m, n))\n",
        "\n",
        "# Calcular la matriz transpuesta A^T\n",
        "AT = A.transpose()\n",
        "\n",
        "# Calcular el producto A^T * A\n",
        "ATA = AT * A\n",
        "\n",
        "# Verificar si A^T * A es invertible\n",
        "if ATA.det() != 0:\n",
        "    print(\"A^T * A es invertible\")\n",
        "else:\n",
        "    print(\"A^T * A no es invertible\")\n",
        "\n",
        "# Verificar si A^T * A es simétrica\n",
        "if ATA == ATA.transpose():\n",
        "    print(\"A^T * A es simétrica\")\n",
        "else:\n",
        "    print(\"A^T * A no es simétrica\")\n",
        "\n",
        "# Mostrar las matrices y resultados\n",
        "print(\"\\nMatriz A:\")\n",
        "display(A)\n",
        "print(\"\\nMatriz A^T:\")\n",
        "display(AT)\n",
        "print(\"\\nMatriz A^T * A:\")\n",
        "display(ATA)\n"
      ],
      "metadata": {
        "colab": {
          "base_uri": "https://localhost:8080/",
          "height": 339
        },
        "id": "vdMoGRA4w0dS",
        "outputId": "53790d54-9765-4765-ff37-99895e2b67be"
      },
      "execution_count": 95,
      "outputs": [
        {
          "output_type": "stream",
          "name": "stdout",
          "text": [
            "A^T * A es invertible\n",
            "A^T * A es simétrica\n",
            "\n",
            "Matriz A:\n"
          ]
        },
        {
          "output_type": "display_data",
          "data": {
            "text/plain": [
              "⎡0.851989292431331  0.956930569848167   0.0370585668324499⎤\n",
              "⎢                                                         ⎥\n",
              "⎢0.356716574760093  0.459101249157296   0.879213460656508 ⎥\n",
              "⎢                                                         ⎥\n",
              "⎣ 0.4469147185079   0.0608636929339827  0.0982752098181728⎦"
            ],
            "text/latex": "$\\displaystyle \\left[\\begin{matrix}0.851989292431331 & 0.956930569848167 & 0.0370585668324499\\\\0.356716574760093 & 0.459101249157296 & 0.879213460656508\\\\0.4469147185079 & 0.0608636929339827 & 0.0982752098181728\\end{matrix}\\right]$"
          },
          "metadata": {}
        },
        {
          "output_type": "stream",
          "name": "stdout",
          "text": [
            "\n",
            "Matriz A^T:\n"
          ]
        },
        {
          "output_type": "display_data",
          "data": {
            "text/plain": [
              "⎡0.851989292431331   0.356716574760093   0.4469147185079  ⎤\n",
              "⎢                                                         ⎥\n",
              "⎢0.956930569848167   0.459101249157296  0.0608636929339827⎥\n",
              "⎢                                                         ⎥\n",
              "⎣0.0370585668324499  0.879213460656508  0.0982752098181728⎦"
            ],
            "text/latex": "$\\displaystyle \\left[\\begin{matrix}0.851989292431331 & 0.356716574760093 & 0.4469147185079\\\\0.956930569848167 & 0.459101249157296 & 0.0608636929339827\\\\0.0370585668324499 & 0.879213460656508 & 0.0982752098181728\\end{matrix}\\right]$"
          },
          "metadata": {}
        },
        {
          "output_type": "stream",
          "name": "stdout",
          "text": [
            "\n",
            "Matriz A^T * A:\n"
          ]
        },
        {
          "output_type": "display_data",
          "data": {
            "text/plain": [
              "⎡1.05286523474521   1.00626450437326   0.389124154034649⎤\n",
              "⎢                                                       ⎥\n",
              "⎢1.00626450437326   1.13019446160529   0.445091865733441⎥\n",
              "⎢                                                       ⎥\n",
              "⎣0.389124154034649  0.445091865733441  0.784047663640074⎦"
            ],
            "text/latex": "$\\displaystyle \\left[\\begin{matrix}1.05286523474521 & 1.00626450437326 & 0.389124154034649\\\\1.00626450437326 & 1.13019446160529 & 0.445091865733441\\\\0.389124154034649 & 0.445091865733441 & 0.784047663640074\\end{matrix}\\right]$"
          },
          "metadata": {}
        }
      ]
    },
    {
      "cell_type": "markdown",
      "source": [
        "# Punto 2"
      ],
      "metadata": {
        "id": "p52ue-2dXyT9"
      }
    },
    {
      "cell_type": "code",
      "source": [
        "#Defino la matriz\n",
        "from sympy import Matrix\n",
        "\n",
        "def generar_matriz_n(n):\n",
        "    if n < 1 or n > 20:\n",
        "        raise ValueError(\"n debe estar en el rango de 1 a 10.\")\n",
        "\n",
        "    elementos = []\n",
        "    for i in range(1, n+1):\n",
        "        for j in range(1, n+1):\n",
        "            elemento = i**j\n",
        "            elementos.append(elemento)\n",
        "\n",
        "    B = Matrix(elementos).reshape(n, n)\n",
        "    return B"
      ],
      "metadata": {
        "id": "BMrqpSZT6gQv"
      },
      "execution_count": 96,
      "outputs": []
    },
    {
      "cell_type": "code",
      "source": [
        "B_1 = generar_matriz_n(1)\n",
        "display(B_1)\n",
        "\n"
      ],
      "metadata": {
        "colab": {
          "base_uri": "https://localhost:8080/",
          "height": 39
        },
        "id": "J0CCeali9qCR",
        "outputId": "9c39f866-76ff-4649-c4b6-b45613b4c0ae"
      },
      "execution_count": 97,
      "outputs": [
        {
          "output_type": "display_data",
          "data": {
            "text/plain": [
              "[1]"
            ],
            "text/latex": "$\\displaystyle \\left[\\begin{matrix}1\\end{matrix}\\right]$"
          },
          "metadata": {}
        }
      ]
    },
    {
      "cell_type": "code",
      "source": [
        "B_2 = generar_matriz_n(2)\n",
        "display(B_2)\n"
      ],
      "metadata": {
        "colab": {
          "base_uri": "https://localhost:8080/",
          "height": 58
        },
        "id": "50QbZZ-R-CCF",
        "outputId": "b591628e-608b-4846-a684-62cb6d2219b6"
      },
      "execution_count": 98,
      "outputs": [
        {
          "output_type": "display_data",
          "data": {
            "text/plain": [
              "⎡1  1⎤\n",
              "⎢    ⎥\n",
              "⎣2  4⎦"
            ],
            "text/latex": "$\\displaystyle \\left[\\begin{matrix}1 & 1\\\\2 & 4\\end{matrix}\\right]$"
          },
          "metadata": {}
        }
      ]
    },
    {
      "cell_type": "code",
      "source": [
        "B_3 = generar_matriz_n(3)\n",
        "display(B_3)"
      ],
      "metadata": {
        "colab": {
          "base_uri": "https://localhost:8080/",
          "height": 78
        },
        "id": "P7bbCH2J-KZ7",
        "outputId": "79eea50f-d540-455a-8e70-3ad23415a19d"
      },
      "execution_count": 99,
      "outputs": [
        {
          "output_type": "display_data",
          "data": {
            "text/plain": [
              "⎡1  1  1 ⎤\n",
              "⎢        ⎥\n",
              "⎢2  4  8 ⎥\n",
              "⎢        ⎥\n",
              "⎣3  9  27⎦"
            ],
            "text/latex": "$\\displaystyle \\left[\\begin{matrix}1 & 1 & 1\\\\2 & 4 & 8\\\\3 & 9 & 27\\end{matrix}\\right]$"
          },
          "metadata": {}
        }
      ]
    },
    {
      "cell_type": "code",
      "source": [
        "B_4 = generar_matriz_n(4)\n",
        "display(B_4)"
      ],
      "metadata": {
        "colab": {
          "base_uri": "https://localhost:8080/",
          "height": 99
        },
        "id": "10d0dT0Z-SiP",
        "outputId": "18a7f86c-4e60-4d05-9d13-cf8b56c29757"
      },
      "execution_count": 100,
      "outputs": [
        {
          "output_type": "display_data",
          "data": {
            "text/plain": [
              "⎡1  1   1    1 ⎤\n",
              "⎢              ⎥\n",
              "⎢2  4   8   16 ⎥\n",
              "⎢              ⎥\n",
              "⎢3  9   27  81 ⎥\n",
              "⎢              ⎥\n",
              "⎣4  16  64  256⎦"
            ],
            "text/latex": "$\\displaystyle \\left[\\begin{matrix}1 & 1 & 1 & 1\\\\2 & 4 & 8 & 16\\\\3 & 9 & 27 & 81\\\\4 & 16 & 64 & 256\\end{matrix}\\right]$"
          },
          "metadata": {}
        }
      ]
    },
    {
      "cell_type": "code",
      "source": [
        "B_5 = generar_matriz_n(5)\n",
        "display(B_5)"
      ],
      "metadata": {
        "colab": {
          "base_uri": "https://localhost:8080/",
          "height": 119
        },
        "id": "c9-7VBeT_1AP",
        "outputId": "bb2b4602-c8c9-4ea5-9b24-e8919941d994"
      },
      "execution_count": 101,
      "outputs": [
        {
          "output_type": "display_data",
          "data": {
            "text/plain": [
              "⎡1  1    1    1    1  ⎤\n",
              "⎢                     ⎥\n",
              "⎢2  4    8   16    32 ⎥\n",
              "⎢                     ⎥\n",
              "⎢3  9   27   81   243 ⎥\n",
              "⎢                     ⎥\n",
              "⎢4  16  64   256  1024⎥\n",
              "⎢                     ⎥\n",
              "⎣5  25  125  625  3125⎦"
            ],
            "text/latex": "$\\displaystyle \\left[\\begin{matrix}1 & 1 & 1 & 1 & 1\\\\2 & 4 & 8 & 16 & 32\\\\3 & 9 & 27 & 81 & 243\\\\4 & 16 & 64 & 256 & 1024\\\\5 & 25 & 125 & 625 & 3125\\end{matrix}\\right]$"
          },
          "metadata": {}
        }
      ]
    },
    {
      "cell_type": "code",
      "source": [
        "def calcular_condicion(matriz):\n",
        "\n",
        "  # Calculamos la norma máxima y mínima de la matriz.\n",
        "\n",
        "  norma_maxima = np.max(np.abs(matriz))\n",
        "  norma_minima = np.min(np.abs(matriz))\n",
        "\n",
        "  # Cociente entre las dos normas.\n",
        "\n",
        "  return norma_maxima / norma_minima"
      ],
      "metadata": {
        "id": "wk5fPngtA1Y3"
      },
      "execution_count": 102,
      "outputs": []
    },
    {
      "cell_type": "code",
      "source": [
        "\n",
        "# Generamos las matrices\n",
        "n_vals = np.arange(1, 11)\n",
        "matrices = [generar_matriz_n(n) for n in n_vals]"
      ],
      "metadata": {
        "id": "R2Y-IlgnA4Ft"
      },
      "execution_count": 103,
      "outputs": []
    },
    {
      "cell_type": "code",
      "source": [
        "# Calculamos la condición de cada matriz\n",
        "condiciones = [calcular_condicion(mat) for mat in matrices]\n",
        "\n",
        "# Graficamos la condición en una tabla\n",
        "print(\"n | condición\")\n",
        "for n, condicion in enumerate(condiciones):\n",
        "    print(f\"{n} | {condicion}\")\n",
        "\n",
        "# Graficamos la condición en un scatterplot\n",
        "plt.plot(n_vals, condiciones)\n",
        "plt.xlabel(\"n\")\n",
        "plt.ylabel(\"Condición\")\n",
        "plt.show()"
      ],
      "metadata": {
        "colab": {
          "base_uri": "https://localhost:8080/",
          "height": 656
        },
        "id": "RVHN8IKd-fLv",
        "outputId": "35c05966-d81a-4248-abeb-eeaf1686ffc0"
      },
      "execution_count": 104,
      "outputs": [
        {
          "output_type": "stream",
          "name": "stdout",
          "text": [
            "n | condición\n",
            "0 | 1\n",
            "1 | 4\n",
            "2 | 27\n",
            "3 | 256\n",
            "4 | 3125\n",
            "5 | 46656\n",
            "6 | 823543\n",
            "7 | 16777216\n",
            "8 | 387420489\n",
            "9 | 10000000000\n"
          ]
        },
        {
          "output_type": "display_data",
          "data": {
            "text/plain": [
              "<Figure size 640x480 with 1 Axes>"
            ],
            "image/png": "[encoded data removed]"
          },
          "metadata": {}
        }
      ]
    },
    {
      "cell_type": "markdown",
      "source": [
        "Cuando incrementamos el valor de 'n', la condición de la matriz también crece. Esto sucede porque los números en la matriz se hacen cada vez más grandes.\n",
        "\n",
        "Si una matriz tiene una condición alta, es más probable que experimente problemas numéricos inestable"
      ],
      "metadata": {
        "id": "FmEUBdkJBg9Z"
      }
    }
  ]
}
